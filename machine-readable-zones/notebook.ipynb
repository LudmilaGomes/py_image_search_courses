{
 "cells": [
  {
   "cell_type": "markdown",
   "id": "4b260296",
   "metadata": {},
   "source": [
    "# [Detecting machine-readable zones in passport images](https://pyimagesearch.com/2015/11/30/detecting-machine-readable-zones-in-passport-images/)\n",
    "\n",
    "We can perform MRZ detection using only basic image processing techniques such as thresholding, morphological operations, and contour properties."
   ]
  },
  {
   "cell_type": "code",
   "execution_count": null,
   "id": "45eb9955",
   "metadata": {},
   "outputs": [],
   "source": [
    "# import the necessary packages\n",
    "from imutils import paths\n",
    "import numpy as np\n",
    "import imutils\n",
    "import argparse\n",
    "import cv2\n",
    "\n",
    "# construct the argument parse and parse the arguments\n",
    "ap = argparse.ArgumentParser()\n",
    "ap.add_argument(\"-i\", \"--images\", required=True, help=\"path to images directory\")\n",
    "args = vars(ap.parse_args())\n",
    "\n",
    "# initialize a rectangular and square structuring kernel\n",
    "rectKernel = cv2.getStructuringElement(cv2.MORPH_RECT, (13, 5))\n",
    "sqKernel = cv2.getStructuringElement(cv2.MORPH_RECT, (21, 21))\n",
    "\n",
    "# loop over the input image paths\n",
    "for imagePath in paths.list_images(args[\"images\"]):\n",
    "\t# load the image, resize it, and convert it to grayscale\n",
    "\timage = cv2.imread(imagePath)\n",
    "\timage = imutils.resize(image, height=600)\n",
    "\tgray = cv2.cvtColor(image, cv2.COLOR_BGR2GRAY)\n",
    "\t# smooth the image using a 3x3 Gaussian, then apply the blackhat\n",
    "\t# morphological operator to find dark regions on a light background\n",
    "\tgray = cv2.GaussianBlur(gray, (3, 3), 0)\n",
    "\tblackhat = cv2.morphologyEx(gray, cv2.MORPH_BLACKHAT, rectKernel)\n",
    "  \n",
    "  # compute the Scharr gradient of the blackhat image and scale the\n",
    "\t# result into the range [0, 255]\n",
    "\tgradX = cv2.Sobel(blackhat, ddepth=cv2.CV_32F, dx=1, dy=0, ksize=-1)\n",
    "\tgradX = np.absolute(gradX)\n",
    "\t(minVal, maxVal) = (np.min(gradX), np.max(gradX))\n",
    "\tgradX = (255 * ((gradX - minVal) / (maxVal - minVal))).astype(\"uint8\")\n",
    "\n",
    "  # apply a closing operation using the rectangular kernel to close\n",
    "\t# gaps in between letters -- then apply Otsu's thresholding method\n",
    "\tgradX = cv2.morphologyEx(gradX, cv2.MORPH_CLOSE, rectKernel)\n",
    "\tthresh = cv2.threshold(gradX, 0, 255, cv2.THRESH_BINARY | cv2.THRESH_OTSU)[1]\n",
    "\n",
    "\t# perform another closing operation, this time using the square\n",
    "\t# kernel to close gaps between lines of the MRZ, then perform a\n",
    "\t# series of erosions to break apart connected components\n",
    "\tthresh = cv2.morphologyEx(thresh, cv2.MORPH_CLOSE, sqKernel)\n",
    "\tthresh = cv2.erode(thresh, None, iterations=4)\n",
    "\n",
    "  # during thresholding, it's possible that border pixels were\n",
    "\t# included in the thresholding, so let's set 5% of the left and\n",
    "\t# right borders to zero\n",
    "\tp = int(image.shape[1] * 0.05)\n",
    "\tthresh[:, 0:p] = 0\n",
    "\tthresh[:, image.shape[1] - p:] = 0"
   ]
  },
  {
   "cell_type": "markdown",
   "id": "11862c70",
   "metadata": {},
   "source": [
    "Applying Scharr operator to our blackhat image reveals regions that contain strong vertical changes in gradient.\n",
    "\n",
    "It’s extremely helpful in reducing false-positive MRZ detections. Without it, we can accidentally mark embellished or designed regions of the passport as the MRZ.\n",
    "\n"
   ]
  }
 ],
 "metadata": {
  "kernelspec": {
   "display_name": "Python 3",
   "language": "python",
   "name": "python3"
  },
  "language_info": {
   "codemirror_mode": {
    "name": "ipython",
    "version": 3
   },
   "file_extension": ".py",
   "mimetype": "text/x-python",
   "name": "python",
   "nbconvert_exporter": "python",
   "pygments_lexer": "ipython3",
   "version": "3.10.12"
  }
 },
 "nbformat": 4,
 "nbformat_minor": 5
}
