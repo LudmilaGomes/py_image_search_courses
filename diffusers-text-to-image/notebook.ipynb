{
 "cells": [
  {
   "cell_type": "markdown",
   "id": "f433fc9d",
   "metadata": {},
   "source": [
    "# [Getting Started with Diffusers for Text-to-Image](https://pyimagesearch.com/2024/01/22/getting-started-with-diffusers-for-text-to-image/)\n",
    "\n",
    "Using Diffusers library from Hugging Face, we'll generate images from text.\n",
    "\n",
    "Diffusion Models are generative models, meaning that they are used to generate data similar to the data on which they are trained. These models work by destroying training data through the successive addition of Gaussian noise and then learning to recover the data by reversing this noising process.\n",
    "\n",
    "Diffusion probabilistic models are parameterized Markov chains trained to gradually denoise data. \n",
    "\n",
    "<!--  -->"
   ]
  }
 ],
 "metadata": {
  "language_info": {
   "name": "python"
  }
 },
 "nbformat": 4,
 "nbformat_minor": 5
}
